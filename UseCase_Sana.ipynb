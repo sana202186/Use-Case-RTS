{
  "nbformat": 4,
  "nbformat_minor": 0,
  "metadata": {
    "colab": {
      "provenance": []
    },
    "kernelspec": {
      "name": "python3",
      "display_name": "Python 3"
    },
    "language_info": {
      "name": "python"
    }
  },
  "cells": [
    {
      "cell_type": "code",
      "execution_count": 1,
      "metadata": {
        "id": "-jGGFNYYTcEx"
      },
      "outputs": [],
      "source": [
        "import pandas as pd\n",
        "import numpy as np\n",
        "import matplotlib.pyplot as plt\n",
        "import seaborn as sns\n",
        "import difflib\n",
        "import seaborn as sns\n",
        "from prophet import Prophet\n",
        "import plotly.express as px"
      ]
    },
    {
      "cell_type": "code",
      "source": [
        "metrics = pd.read_csv(\"sample_data/Mesures.csv\", encoding=\"latin-1\", sep=\";\")"
      ],
      "metadata": {
        "id": "0JgrXJSt2ONz"
      },
      "execution_count": 2,
      "outputs": []
    },
    {
      "cell_type": "code",
      "source": [
        "tags = pd.read_csv(\"sample_data/Tags.csv\", encoding=\"latin-1\", sep=\";\")"
      ],
      "metadata": {
        "id": "4LeYJzWv46UZ"
      },
      "execution_count": 3,
      "outputs": []
    },
    {
      "cell_type": "code",
      "source": [
        "print(\"Fichiers chargés\")\n",
        "print(\"Tags :\", tags.shape, \" | Metrics :\", metrics.shape)"
      ],
      "metadata": {
        "colab": {
          "base_uri": "https://localhost:8080/"
        },
        "id": "_wMNXhLj7qmL",
        "outputId": "d1e43201-8a40-4dcf-d28b-a28143fd0fee"
      },
      "execution_count": 4,
      "outputs": [
        {
          "output_type": "stream",
          "name": "stdout",
          "text": [
            "Fichiers chargés\n",
            "Tags : (107802, 4)  | Metrics : (277586, 17)\n"
          ]
        }
      ]
    },
    {
      "cell_type": "code",
      "source": [
        "# Suppression des espaces dans les noms de colonnes\n",
        "tags.columns = tags.columns.str.strip()\n",
        "metrics.columns = metrics.columns.str.strip()\n",
        "\n",
        "# Suppression des espaces superflus dans les cellules\n",
        "for df in [tags, metrics]:\n",
        "    df.replace(r'^\\s+|\\s+$', '', regex=True, inplace=True)\n",
        "\n",
        "# Suppression des lignes entièrement vides\n",
        "tags.dropna(how='all', inplace=True)\n",
        "metrics.dropna(how='all', inplace=True)"
      ],
      "metadata": {
        "id": "adlnCdHgtN3k"
      },
      "execution_count": 5,
      "outputs": []
    },
    {
      "cell_type": "code",
      "source": [
        "print(\"Fichiers chargés\")\n",
        "print(\"Tags :\", tags.shape, \" | Metrics :\", metrics.shape)"
      ],
      "metadata": {
        "colab": {
          "base_uri": "https://localhost:8080/"
        },
        "id": "gH3SPOvInOxl",
        "outputId": "9a2819e3-62d5-4bed-8188-003787852acf"
      },
      "execution_count": 6,
      "outputs": [
        {
          "output_type": "stream",
          "name": "stdout",
          "text": [
            "Fichiers chargés\n",
            "Tags : (107802, 4)  | Metrics : (277586, 17)\n"
          ]
        }
      ]
    },
    {
      "cell_type": "code",
      "source": [
        "# Harmonisation des identifiants\n",
        "tags['Segment ID'] = tags['Segment ID'].astype(str).str.strip()\n",
        "metrics['Segment ID'] = metrics['Segment ID'].astype(str).str.strip()\n",
        "\n",
        "# Nettoyage des valeurs numériques et textuelles\n",
        "# Conversion du taux de nouvelles visites en float\n",
        "if 'New Visit Rate %' in metrics.columns:\n",
        "    metrics['New Visit Rate %'] = (\n",
        "        metrics['New Visit Rate %']\n",
        "        .astype(str)\n",
        "        .str.replace('%', '', regex=False)\n",
        "        .str.replace(',', '.', regex=False)\n",
        "    )\n",
        "    metrics['New Visit Rate %'] = pd.to_numeric(metrics['New Visit Rate %'], errors='coerce')"
      ],
      "metadata": {
        "id": "MFbRF5-a9I9h"
      },
      "execution_count": 7,
      "outputs": []
    },
    {
      "cell_type": "code",
      "source": [
        "print(\"Fichiers chargés\")\n",
        "print(\"Tags :\", tags.shape, \" | Metrics :\", metrics.shape)"
      ],
      "metadata": {
        "colab": {
          "base_uri": "https://localhost:8080/"
        },
        "id": "1WzuSpZ1nWXW",
        "outputId": "6cf39b83-4394-46f9-cc44-920932cb8693"
      },
      "execution_count": 8,
      "outputs": [
        {
          "output_type": "stream",
          "name": "stdout",
          "text": [
            "Fichiers chargés\n",
            "Tags : (107802, 4)  | Metrics : (277586, 17)\n"
          ]
        }
      ]
    },
    {
      "cell_type": "code",
      "source": [
        "# Conversion du temps moyen de lecture en secondes\n",
        "def time_to_seconds(t):\n",
        "    try:\n",
        "        h, m, s = map(int, str(t).split(':'))\n",
        "        return h*3600 + m*60 + s\n",
        "    except:\n",
        "        return np.nan\n",
        "\n",
        "if 'Avg Play Duration' in metrics.columns:\n",
        "    metrics['Avg Play Duration (s)'] = metrics['Avg Play Duration'].apply(time_to_seconds)\n",
        "if 'Total Play Duration' in metrics.columns:\n",
        "    metrics['Total Play Duration (s)'] = df['Total Play Duration'].apply(time_to_seconds)\n",
        "\n",
        "# Suppression des doublons\n",
        "tags.drop_duplicates(subset=\"Segment ID\", inplace=True)\n",
        "metrics.drop_duplicates(subset=\"Segment ID\", inplace=True)"
      ],
      "metadata": {
        "id": "tDhnN2G39sfH"
      },
      "execution_count": 9,
      "outputs": []
    },
    {
      "cell_type": "code",
      "source": [
        "print(\"Fichiers nettoyés\")\n",
        "print(\"Tags :\", tags.shape, \" | Metrics :\", metrics.shape)"
      ],
      "metadata": {
        "colab": {
          "base_uri": "https://localhost:8080/"
        },
        "id": "q_oCZEs4p3EA",
        "outputId": "8a101b51-d10f-488c-90eb-a3afab040d9b"
      },
      "execution_count": 10,
      "outputs": [
        {
          "output_type": "stream",
          "name": "stdout",
          "text": [
            "Fichiers nettoyés\n",
            "Tags : (80731, 4)  | Metrics : (82546, 19)\n"
          ]
        }
      ]
    },
    {
      "cell_type": "code",
      "source": [
        "#Vérifications avant fusion\n",
        "common_ids = set(tags['Segment ID']) & set(metrics['Segment ID'])\n",
        "print(f\"\\n Vérification des identifiants :\")\n",
        "print(f\"- IDs communs : {len(common_ids)}\")\n",
        "print(f\"- IDs uniquement dans Mesures : {len(set(metrics['Segment ID']) - common_ids)}\")\n",
        "print(f\"- IDs uniquement dans Tags : {len(set(tags['Segment ID']) - common_ids)}\")"
      ],
      "metadata": {
        "colab": {
          "base_uri": "https://localhost:8080/"
        },
        "id": "Xm7AC0fs-OmD",
        "outputId": "8b6cb1ac-5802-46c5-d943-bd2b8b8418d3"
      },
      "execution_count": 11,
      "outputs": [
        {
          "output_type": "stream",
          "name": "stdout",
          "text": [
            "\n",
            " Vérification des identifiants :\n",
            "- IDs communs : 80731\n",
            "- IDs uniquement dans Mesures : 1815\n",
            "- IDs uniquement dans Tags : 0\n"
          ]
        }
      ]
    },
    {
      "cell_type": "code",
      "source": [
        "# Fusion\n",
        "merged = pd.merge(\n",
        "    metrics,\n",
        "    tags[['Segment ID', 'Assigned Tags']],\n",
        "    on='Segment ID',\n",
        "    how='left'\n",
        ")"
      ],
      "metadata": {
        "id": "wAz61IvYAL-a"
      },
      "execution_count": 12,
      "outputs": []
    },
    {
      "cell_type": "code",
      "source": [
        "print(\"Dimensions finales :\", merged.shape)"
      ],
      "metadata": {
        "colab": {
          "base_uri": "https://localhost:8080/"
        },
        "id": "4l2aksmuAR4F",
        "outputId": "9ba90eb6-f3f3-45ce-9e4f-3f753f31156d"
      },
      "execution_count": 13,
      "outputs": [
        {
          "output_type": "stream",
          "name": "stdout",
          "text": [
            "Dimensions finales : (82546, 20)\n"
          ]
        }
      ]
    },
    {
      "cell_type": "code",
      "source": [
        "#  Sauvegarde du fichier propre ===\n",
        "output_path = \"sample_data/Metrics_Tags_Clean.csv\"\n",
        "merged.to_csv(output_path, index=False, encoding=\"utf-8-sig\")\n",
        "print(f\" Fichier nettoyé et fusionné enregistré sous : {output_path}\")\n",
        "\n",
        "# =Aperçu des données ===\n",
        "#display(merged.head(10))"
      ],
      "metadata": {
        "colab": {
          "base_uri": "https://localhost:8080/"
        },
        "id": "QmW2SmYBBCZU",
        "outputId": "5afebff1-121b-4474-e797-b81641afc915"
      },
      "execution_count": 14,
      "outputs": [
        {
          "output_type": "stream",
          "name": "stdout",
          "text": [
            " Fichier nettoyé et fusionné enregistré sous : sample_data/Metrics_Tags_Clean.csv\n"
          ]
        }
      ]
    },
    {
      "cell_type": "code",
      "source": [
        "import re\n",
        "df = merged\n",
        "# Fonction de nettoyage\n",
        "def clean_tag(text):\n",
        "    text = text.lower()\n",
        "    text = re.sub(r'media_radio|rts_info|la-1ere|media_tv|couleur3|podcasts-originaux', '', text)\n",
        "    text = text.replace('_', ' ').replace(':', ' ')\n",
        "    text = re.sub(r'\\s+', ' ', text).strip()\n",
        "    return text\n",
        "\n",
        "df['Cleaned'] = df['Assigned Tags'].apply(clean_tag)\n",
        "from sklearn.feature_extraction.text import CountVectorizer\n",
        "\n",
        "vectorizer = CountVectorizer(stop_words=None)\n",
        "X = vectorizer.fit_transform(df['Cleaned'])\n",
        "from sklearn.decomposition import LatentDirichletAllocation\n",
        "\n",
        "# Exemple : on veut trouver 10 thèmes\n",
        "lda = LatentDirichletAllocation(n_components=20, random_state=42)\n",
        "lda.fit(X)\n",
        "words = vectorizer.get_feature_names_out()\n",
        "\n",
        "for i, topic in enumerate(lda.components_):\n",
        "    top_words = [words[j] for j in topic.argsort()[-10:]]\n",
        "    print(f\"Thème {i+1} :\", \", \".join(top_words))"
      ],
      "metadata": {
        "colab": {
          "base_uri": "https://localhost:8080/",
          "height": 391
        },
        "id": "CQoMFoccsZ65",
        "outputId": "7d8e930d-eb25-4943-e7b3-fdc53fe67385"
      },
      "execution_count": 16,
      "outputs": [
        {
          "output_type": "error",
          "ename": "AttributeError",
          "evalue": "'float' object has no attribute 'lower'",
          "traceback": [
            "\u001b[0;31m---------------------------------------------------------------------------\u001b[0m",
            "\u001b[0;31mAttributeError\u001b[0m                            Traceback (most recent call last)",
            "\u001b[0;32m/tmp/ipython-input-3675606437.py\u001b[0m in \u001b[0;36m<cell line: 0>\u001b[0;34m()\u001b[0m\n\u001b[1;32m      9\u001b[0m     \u001b[0;32mreturn\u001b[0m \u001b[0mtext\u001b[0m\u001b[0;34m\u001b[0m\u001b[0;34m\u001b[0m\u001b[0m\n\u001b[1;32m     10\u001b[0m \u001b[0;34m\u001b[0m\u001b[0m\n\u001b[0;32m---> 11\u001b[0;31m \u001b[0mdf\u001b[0m\u001b[0;34m[\u001b[0m\u001b[0;34m'Cleaned'\u001b[0m\u001b[0;34m]\u001b[0m \u001b[0;34m=\u001b[0m \u001b[0mdf\u001b[0m\u001b[0;34m[\u001b[0m\u001b[0;34m'Assigned Tags'\u001b[0m\u001b[0;34m]\u001b[0m\u001b[0;34m.\u001b[0m\u001b[0mapply\u001b[0m\u001b[0;34m(\u001b[0m\u001b[0mclean_tag\u001b[0m\u001b[0;34m)\u001b[0m\u001b[0;34m\u001b[0m\u001b[0;34m\u001b[0m\u001b[0m\n\u001b[0m\u001b[1;32m     12\u001b[0m \u001b[0;32mfrom\u001b[0m \u001b[0msklearn\u001b[0m\u001b[0;34m.\u001b[0m\u001b[0mfeature_extraction\u001b[0m\u001b[0;34m.\u001b[0m\u001b[0mtext\u001b[0m \u001b[0;32mimport\u001b[0m \u001b[0mCountVectorizer\u001b[0m\u001b[0;34m\u001b[0m\u001b[0;34m\u001b[0m\u001b[0m\n\u001b[1;32m     13\u001b[0m \u001b[0;34m\u001b[0m\u001b[0m\n",
            "\u001b[0;32m/usr/local/lib/python3.12/dist-packages/pandas/core/series.py\u001b[0m in \u001b[0;36mapply\u001b[0;34m(self, func, convert_dtype, args, by_row, **kwargs)\u001b[0m\n\u001b[1;32m   4922\u001b[0m             \u001b[0margs\u001b[0m\u001b[0;34m=\u001b[0m\u001b[0margs\u001b[0m\u001b[0;34m,\u001b[0m\u001b[0;34m\u001b[0m\u001b[0;34m\u001b[0m\u001b[0m\n\u001b[1;32m   4923\u001b[0m             \u001b[0mkwargs\u001b[0m\u001b[0;34m=\u001b[0m\u001b[0mkwargs\u001b[0m\u001b[0;34m,\u001b[0m\u001b[0;34m\u001b[0m\u001b[0;34m\u001b[0m\u001b[0m\n\u001b[0;32m-> 4924\u001b[0;31m         ).apply()\n\u001b[0m\u001b[1;32m   4925\u001b[0m \u001b[0;34m\u001b[0m\u001b[0m\n\u001b[1;32m   4926\u001b[0m     def _reindex_indexer(\n",
            "\u001b[0;32m/usr/local/lib/python3.12/dist-packages/pandas/core/apply.py\u001b[0m in \u001b[0;36mapply\u001b[0;34m(self)\u001b[0m\n\u001b[1;32m   1425\u001b[0m \u001b[0;34m\u001b[0m\u001b[0m\n\u001b[1;32m   1426\u001b[0m         \u001b[0;31m# self.func is Callable\u001b[0m\u001b[0;34m\u001b[0m\u001b[0;34m\u001b[0m\u001b[0m\n\u001b[0;32m-> 1427\u001b[0;31m         \u001b[0;32mreturn\u001b[0m \u001b[0mself\u001b[0m\u001b[0;34m.\u001b[0m\u001b[0mapply_standard\u001b[0m\u001b[0;34m(\u001b[0m\u001b[0;34m)\u001b[0m\u001b[0;34m\u001b[0m\u001b[0;34m\u001b[0m\u001b[0m\n\u001b[0m\u001b[1;32m   1428\u001b[0m \u001b[0;34m\u001b[0m\u001b[0m\n\u001b[1;32m   1429\u001b[0m     \u001b[0;32mdef\u001b[0m \u001b[0magg\u001b[0m\u001b[0;34m(\u001b[0m\u001b[0mself\u001b[0m\u001b[0;34m)\u001b[0m\u001b[0;34m:\u001b[0m\u001b[0;34m\u001b[0m\u001b[0;34m\u001b[0m\u001b[0m\n",
            "\u001b[0;32m/usr/local/lib/python3.12/dist-packages/pandas/core/apply.py\u001b[0m in \u001b[0;36mapply_standard\u001b[0;34m(self)\u001b[0m\n\u001b[1;32m   1505\u001b[0m         \u001b[0;31m#  Categorical (GH51645).\u001b[0m\u001b[0;34m\u001b[0m\u001b[0;34m\u001b[0m\u001b[0m\n\u001b[1;32m   1506\u001b[0m         \u001b[0maction\u001b[0m \u001b[0;34m=\u001b[0m \u001b[0;34m\"ignore\"\u001b[0m \u001b[0;32mif\u001b[0m \u001b[0misinstance\u001b[0m\u001b[0;34m(\u001b[0m\u001b[0mobj\u001b[0m\u001b[0;34m.\u001b[0m\u001b[0mdtype\u001b[0m\u001b[0;34m,\u001b[0m \u001b[0mCategoricalDtype\u001b[0m\u001b[0;34m)\u001b[0m \u001b[0;32melse\u001b[0m \u001b[0;32mNone\u001b[0m\u001b[0;34m\u001b[0m\u001b[0;34m\u001b[0m\u001b[0m\n\u001b[0;32m-> 1507\u001b[0;31m         mapped = obj._map_values(\n\u001b[0m\u001b[1;32m   1508\u001b[0m             \u001b[0mmapper\u001b[0m\u001b[0;34m=\u001b[0m\u001b[0mcurried\u001b[0m\u001b[0;34m,\u001b[0m \u001b[0mna_action\u001b[0m\u001b[0;34m=\u001b[0m\u001b[0maction\u001b[0m\u001b[0;34m,\u001b[0m \u001b[0mconvert\u001b[0m\u001b[0;34m=\u001b[0m\u001b[0mself\u001b[0m\u001b[0;34m.\u001b[0m\u001b[0mconvert_dtype\u001b[0m\u001b[0;34m\u001b[0m\u001b[0;34m\u001b[0m\u001b[0m\n\u001b[1;32m   1509\u001b[0m         )\n",
            "\u001b[0;32m/usr/local/lib/python3.12/dist-packages/pandas/core/base.py\u001b[0m in \u001b[0;36m_map_values\u001b[0;34m(self, mapper, na_action, convert)\u001b[0m\n\u001b[1;32m    919\u001b[0m             \u001b[0;32mreturn\u001b[0m \u001b[0marr\u001b[0m\u001b[0;34m.\u001b[0m\u001b[0mmap\u001b[0m\u001b[0;34m(\u001b[0m\u001b[0mmapper\u001b[0m\u001b[0;34m,\u001b[0m \u001b[0mna_action\u001b[0m\u001b[0;34m=\u001b[0m\u001b[0mna_action\u001b[0m\u001b[0;34m)\u001b[0m\u001b[0;34m\u001b[0m\u001b[0;34m\u001b[0m\u001b[0m\n\u001b[1;32m    920\u001b[0m \u001b[0;34m\u001b[0m\u001b[0m\n\u001b[0;32m--> 921\u001b[0;31m         \u001b[0;32mreturn\u001b[0m \u001b[0malgorithms\u001b[0m\u001b[0;34m.\u001b[0m\u001b[0mmap_array\u001b[0m\u001b[0;34m(\u001b[0m\u001b[0marr\u001b[0m\u001b[0;34m,\u001b[0m \u001b[0mmapper\u001b[0m\u001b[0;34m,\u001b[0m \u001b[0mna_action\u001b[0m\u001b[0;34m=\u001b[0m\u001b[0mna_action\u001b[0m\u001b[0;34m,\u001b[0m \u001b[0mconvert\u001b[0m\u001b[0;34m=\u001b[0m\u001b[0mconvert\u001b[0m\u001b[0;34m)\u001b[0m\u001b[0;34m\u001b[0m\u001b[0;34m\u001b[0m\u001b[0m\n\u001b[0m\u001b[1;32m    922\u001b[0m \u001b[0;34m\u001b[0m\u001b[0m\n\u001b[1;32m    923\u001b[0m     \u001b[0;34m@\u001b[0m\u001b[0mfinal\u001b[0m\u001b[0;34m\u001b[0m\u001b[0;34m\u001b[0m\u001b[0m\n",
            "\u001b[0;32m/usr/local/lib/python3.12/dist-packages/pandas/core/algorithms.py\u001b[0m in \u001b[0;36mmap_array\u001b[0;34m(arr, mapper, na_action, convert)\u001b[0m\n\u001b[1;32m   1741\u001b[0m     \u001b[0mvalues\u001b[0m \u001b[0;34m=\u001b[0m \u001b[0marr\u001b[0m\u001b[0;34m.\u001b[0m\u001b[0mastype\u001b[0m\u001b[0;34m(\u001b[0m\u001b[0mobject\u001b[0m\u001b[0;34m,\u001b[0m \u001b[0mcopy\u001b[0m\u001b[0;34m=\u001b[0m\u001b[0;32mFalse\u001b[0m\u001b[0;34m)\u001b[0m\u001b[0;34m\u001b[0m\u001b[0;34m\u001b[0m\u001b[0m\n\u001b[1;32m   1742\u001b[0m     \u001b[0;32mif\u001b[0m \u001b[0mna_action\u001b[0m \u001b[0;32mis\u001b[0m \u001b[0;32mNone\u001b[0m\u001b[0;34m:\u001b[0m\u001b[0;34m\u001b[0m\u001b[0;34m\u001b[0m\u001b[0m\n\u001b[0;32m-> 1743\u001b[0;31m         \u001b[0;32mreturn\u001b[0m \u001b[0mlib\u001b[0m\u001b[0;34m.\u001b[0m\u001b[0mmap_infer\u001b[0m\u001b[0;34m(\u001b[0m\u001b[0mvalues\u001b[0m\u001b[0;34m,\u001b[0m \u001b[0mmapper\u001b[0m\u001b[0;34m,\u001b[0m \u001b[0mconvert\u001b[0m\u001b[0;34m=\u001b[0m\u001b[0mconvert\u001b[0m\u001b[0;34m)\u001b[0m\u001b[0;34m\u001b[0m\u001b[0;34m\u001b[0m\u001b[0m\n\u001b[0m\u001b[1;32m   1744\u001b[0m     \u001b[0;32melse\u001b[0m\u001b[0;34m:\u001b[0m\u001b[0;34m\u001b[0m\u001b[0;34m\u001b[0m\u001b[0m\n\u001b[1;32m   1745\u001b[0m         return lib.map_infer_mask(\n",
            "\u001b[0;32mlib.pyx\u001b[0m in \u001b[0;36mpandas._libs.lib.map_infer\u001b[0;34m()\u001b[0m\n",
            "\u001b[0;32m/tmp/ipython-input-3675606437.py\u001b[0m in \u001b[0;36mclean_tag\u001b[0;34m(text)\u001b[0m\n\u001b[1;32m      3\u001b[0m \u001b[0;31m# Fonction de nettoyage\u001b[0m\u001b[0;34m\u001b[0m\u001b[0;34m\u001b[0m\u001b[0m\n\u001b[1;32m      4\u001b[0m \u001b[0;32mdef\u001b[0m \u001b[0mclean_tag\u001b[0m\u001b[0;34m(\u001b[0m\u001b[0mtext\u001b[0m\u001b[0;34m)\u001b[0m\u001b[0;34m:\u001b[0m\u001b[0;34m\u001b[0m\u001b[0;34m\u001b[0m\u001b[0m\n\u001b[0;32m----> 5\u001b[0;31m     \u001b[0mtext\u001b[0m \u001b[0;34m=\u001b[0m \u001b[0mtext\u001b[0m\u001b[0;34m.\u001b[0m\u001b[0mlower\u001b[0m\u001b[0;34m(\u001b[0m\u001b[0;34m)\u001b[0m\u001b[0;34m\u001b[0m\u001b[0;34m\u001b[0m\u001b[0m\n\u001b[0m\u001b[1;32m      6\u001b[0m     \u001b[0mtext\u001b[0m \u001b[0;34m=\u001b[0m \u001b[0mre\u001b[0m\u001b[0;34m.\u001b[0m\u001b[0msub\u001b[0m\u001b[0;34m(\u001b[0m\u001b[0;34mr'media_radio|rts_info|la-1ere|media_tv|couleur3|podcasts-originaux'\u001b[0m\u001b[0;34m,\u001b[0m \u001b[0;34m''\u001b[0m\u001b[0;34m,\u001b[0m \u001b[0mtext\u001b[0m\u001b[0;34m)\u001b[0m\u001b[0;34m\u001b[0m\u001b[0;34m\u001b[0m\u001b[0m\n\u001b[1;32m      7\u001b[0m     \u001b[0mtext\u001b[0m \u001b[0;34m=\u001b[0m \u001b[0mtext\u001b[0m\u001b[0;34m.\u001b[0m\u001b[0mreplace\u001b[0m\u001b[0;34m(\u001b[0m\u001b[0;34m'_'\u001b[0m\u001b[0;34m,\u001b[0m \u001b[0;34m' '\u001b[0m\u001b[0;34m)\u001b[0m\u001b[0;34m.\u001b[0m\u001b[0mreplace\u001b[0m\u001b[0;34m(\u001b[0m\u001b[0;34m':'\u001b[0m\u001b[0;34m,\u001b[0m \u001b[0;34m' '\u001b[0m\u001b[0;34m)\u001b[0m\u001b[0;34m\u001b[0m\u001b[0;34m\u001b[0m\u001b[0m\n",
            "\u001b[0;31mAttributeError\u001b[0m: 'float' object has no attribute 'lower'"
          ]
        }
      ]
    },
    {
      "cell_type": "code",
      "source": [
        "import re\n",
        "\n",
        "# 1. Remplir les NaN\n",
        "merged['Assigned Tags'] = merged['Assigned Tags'].fillna('')\n",
        "\n",
        "# 2. Split + nettoyage\n",
        "def clean_tags(tag_string):\n",
        "    # Séparer par \":\" ou \",\"\n",
        "    tags = re.split(':|,', tag_string)\n",
        "    cleaned = []\n",
        "    for t in tags:\n",
        "        t = t.strip().lower()\n",
        "        # Supprimer les préfixes/éléments récurrents\n",
        "        t = re.sub(r'\\b(media_radio|la-1ere|rts_info|podcasts|espace-2|consommation|media|tv|couleur3|valais)\\b', '', t)\n",
        "        t = t.strip('_-: ')\n",
        "        if t:  # ne garder que les tags non vides\n",
        "            cleaned.append(t)\n",
        "    return cleaned\n",
        "\n",
        "merged['cleaned_tags'] = merged['Assigned Tags'].apply(clean_tags)\n",
        "\n",
        "# 3. Fonction pour assigner le thème\n",
        "theme_keywords = {\n",
        "    'Info': ['info', 'reportages', 'news', 'economie' ,'monde'],\n",
        "    'Sport': ['sport', 'match', 'football', 'basket', 'tennis', 'rugby', 'athlétisme'],\n",
        "    'Musique': ['musique', 'concert', 'chanson', 'album', 'pop', 'rock', 'classique'],\n",
        "    'Société': ['societe', 'entretiens', 'social', 'documentaire social', 'culture'],\n",
        "    'Humour': ['humour', 'comedy', 'blague', 'sketch', 'stand-up']\n",
        "}\n",
        "\n",
        "\n",
        "def assign_theme(tags_list):\n",
        "    for tag in tags_list:\n",
        "        for theme, keywords in theme_keywords.items():\n",
        "            if any(kw in tag for kw in keywords):\n",
        "                return theme\n",
        "    return 'Autre'\n",
        "\n",
        "merged['Theme_Final'] = merged['cleaned_tags'].apply(assign_theme)\n",
        "\n",
        "# 4. Vérifier le résultat\n",
        "print(merged['Theme_Final'].value_counts())\n",
        "\n",
        "\n",
        "\n",
        "\n"
      ],
      "metadata": {
        "colab": {
          "base_uri": "https://localhost:8080/"
        },
        "id": "wT89zDCOEh7s",
        "outputId": "92d9246c-2c5b-42ee-ba1c-d0c3d3dddd6c"
      },
      "execution_count": 15,
      "outputs": [
        {
          "output_type": "stream",
          "name": "stdout",
          "text": [
            "Theme_Final\n",
            "Autre      68403\n",
            "Info        8320\n",
            "Musique     3055\n",
            "Société     1673\n",
            "Humour       819\n",
            "Sport        276\n",
            "Name: count, dtype: int64\n"
          ]
        }
      ]
    },
    {
      "cell_type": "code",
      "source": [
        "theme_metrics = merged.groupby('Theme_Final').agg({\n",
        "    'Segment ID': 'count',                  # nombre de segments produits\n",
        "    'Media Views': 'sum',                   # total des vues\n",
        "    'Visitors': 'sum',                      # nombre de visiteurs uniques\n",
        "    'Returning Visits': 'sum',              # visites de retour\n",
        "    'Bounces': 'sum',                        # rebonds\n",
        "    'Total Play Duration (s)': 'sum',       # engagement total\n",
        "    'Avg Play Duration (s)': 'mean',         # durée moyenne de visionnage\n",
        "    'New Visit Rate %': 'mean' # Add mean of New Visit Rate %\n",
        "}).rename(columns={'Segment ID':'Num_Segments'})"
      ],
      "metadata": {
        "id": "SVtylMIENEos"
      },
      "execution_count": 16,
      "outputs": []
    },
    {
      "cell_type": "code",
      "source": [
        "print(df.columns)"
      ],
      "metadata": {
        "colab": {
          "base_uri": "https://localhost:8080/"
        },
        "id": "v0sq7zSbghdi",
        "outputId": "0058aff3-98e8-4813-90cb-c232a3d9e476"
      },
      "execution_count": 17,
      "outputs": [
        {
          "output_type": "stream",
          "name": "stdout",
          "text": [
            "Index(['Segment ID', 'Segment', 'Show ID', 'Show', 'Publication Date',\n",
            "       'App/Site Name', 'Device Class', 'Segment Length', 'Media Views',\n",
            "       'Avg Play Duration', 'Visitors', 'New Visit Rate %', 'Entries', 'Exits',\n",
            "       'Returning Visits', 'Bounces', 'Total Play Duration',\n",
            "       'Avg Play Duration (s)', 'Total Play Duration (s)'],\n",
            "      dtype='object')\n"
          ]
        }
      ]
    },
    {
      "cell_type": "code",
      "source": [
        "# Calculer les scores Acquisition, Retention, Engagement ---\n",
        "theme_metrics['Acquisition_Score'] = theme_metrics['Visitors'] * theme_metrics['New Visit Rate %'] / 100\n",
        "theme_metrics['Retention_Score'] = theme_metrics['Returning Visits']\n",
        "theme_metrics['Engagement_Score'] = theme_metrics['Total Play Duration (s)']"
      ],
      "metadata": {
        "id": "3cWZbMK7NElc"
      },
      "execution_count": 18,
      "outputs": []
    },
    {
      "cell_type": "code",
      "source": [
        "# Normalisation pour comparer facilement\n",
        "for col in ['Acquisition_Score','Retention_Score','Engagement_Score']:\n",
        "    theme_metrics[col+'_norm'] = theme_metrics[col] / theme_metrics[col].max()"
      ],
      "metadata": {
        "id": "3HyyeCKuNEja"
      },
      "execution_count": 19,
      "outputs": []
    },
    {
      "cell_type": "code",
      "source": [
        "# Priorisation des thèmes pour production ---\n",
        "theme_metrics['Priority_Score'] = 0.6*theme_metrics['Acquisition_Score_norm'] + 0.4*theme_metrics['Retention_Score_norm']\n",
        "theme_metrics = theme_metrics.sort_values('Priority_Score', ascending=False)"
      ],
      "metadata": {
        "id": "wa3iEvqfNEg3"
      },
      "execution_count": 20,
      "outputs": []
    },
    {
      "cell_type": "code",
      "source": [
        "# Exporter pour Power BI ou rapport ---\n",
        "theme_metrics.to_csv(\"Theme_Metrics_Analysis.csv\", index=True)"
      ],
      "metadata": {
        "id": "1h15TidxNEVk"
      },
      "execution_count": 22,
      "outputs": []
    },
    {
      "cell_type": "code",
      "source": [
        "#Exploration des données avec des graphiques python\n",
        "# Style global\n",
        "sns.set(style=\"whitegrid\", palette=\"muted\", font_scale=1.1)\n"
      ],
      "metadata": {
        "id": "WsqeSGFrdTJA"
      },
      "execution_count": 23,
      "outputs": []
    },
    {
      "cell_type": "code",
      "source": [
        "# Création d'une série temporelle synthétique\n",
        "dates = pd.date_range(start=\"2024-01-01\", periods=12, freq='M')\n",
        "records = []\n",
        "\n",
        "for theme, row in theme_metrics.iterrows():\n",
        "    base = row['Visitors']\n",
        "    growth = np.random.uniform(0.01, 0.05)  # croissance mensuelle simulée\n",
        "    for i, d in enumerate(dates):\n",
        "        visitors = base * ((1 + growth) ** i) / 12\n",
        "        records.append({\n",
        "            \"Date\": d,\n",
        "            \"Theme_Final\": theme,\n",
        "            \"Visitors\": visitors\n",
        "        })\n",
        "\n",
        "theme_time = pd.DataFrame(records)\n",
        "print(\"Série temporelle générée :\", theme_time.shape)\n",
        "print(theme_time.head())\n",
        "\n",
        "# Courbe d’évolution des visiteurs ---\n",
        "plt.figure(figsize=(12,6))\n",
        "sns.lineplot(data=theme_time, x='Date', y='Visitors', hue='Theme_Final', marker=\"o\")\n",
        "plt.title(\"Évolution temporelle des visiteurs par thème\")\n",
        "plt.ylabel(\"Visiteurs\")\n",
        "plt.xlabel(\"Date\")\n",
        "plt.show()\n",
        "\n",
        "#  Version interactive\n",
        "fig = px.line(theme_time, x='Date', y='Visitors', color='Theme_Final',\n",
        "              title='Évolution temporelle interactive des visiteurs par thème')\n",
        "fig.show()\n",
        "\n"
      ],
      "metadata": {
        "colab": {
          "base_uri": "https://localhost:8080/",
          "height": 1000
        },
        "id": "4k2b4CLqe67d",
        "outputId": "04aeec84-a2ca-4985-c09b-d2039a7a0d6b"
      },
      "execution_count": 26,
      "outputs": [
        {
          "output_type": "stream",
          "name": "stderr",
          "text": [
            "/tmp/ipython-input-3132979679.py:2: FutureWarning: 'M' is deprecated and will be removed in a future version, please use 'ME' instead.\n",
            "  dates = pd.date_range(start=\"2024-01-01\", periods=12, freq='M')\n"
          ]
        },
        {
          "output_type": "stream",
          "name": "stdout",
          "text": [
            "Série temporelle générée : (72, 3)\n",
            "        Date Theme_Final      Visitors\n",
            "0 2024-01-31       Autre  3.949496e+06\n",
            "1 2024-02-29       Autre  4.037716e+06\n",
            "2 2024-03-31       Autre  4.127907e+06\n",
            "3 2024-04-30       Autre  4.220113e+06\n",
            "4 2024-05-31       Autre  4.314379e+06\n"
          ]
        },
        {
          "output_type": "display_data",
          "data": {
            "text/plain": [
              "<Figure size 1200x600 with 1 Axes>"
            ],
            "image/png": "[encoded data removed]"
          },
          "metadata": {}
        },
        {
          "output_type": "display_data",
          "data": {
            "text/html": [
              "<html>\n",
              "<head><meta charset=\"utf-8\" /></head>\n",
              "<body>\n",
              "    <div>            <script src=\"https://cdnjs.cloudflare.com/ajax/libs/mathjax/2.7.5/MathJax.js?config=TeX-AMS-MML_SVG\"></script><script type=\"text/javascript\">if (window.MathJax && window.MathJax.Hub && window.MathJax.Hub.Config) {window.MathJax.Hub.Config({SVG: {font: \"STIX-Web\"}});}</script>                <script type=\"text/javascript\">window.PlotlyConfig = {MathJaxConfig: 'local'};</script>\n",
              "        <script charset=\"utf-8\" src=\"https://cdn.plot.ly/plotly-2.35.2.min.js\"></script>                <div id=\"05371779-a614-408e-a072-f280efa2ab73\" class=\"plotly-graph-div\" style=\"height:525px; width:100%;\"></div>            <script type=\"text/javascript\">                                    window.PLOTLYENV=window.PLOTLYENV || {};                                    if (document.getElementById(\"05371779-a614-408e-a072-f280efa2ab73\")) {                    Plotly.newPlot(                        \"05371779-a614-408e-a072-f280efa2ab73\",                        [{\"hovertemplate\":\"Theme_Final=Autre\\u003cbr\\u003eDate=%{x}\\u003cbr\\u003eVisitors=%{y}\\u003cextra\\u003e\\u003c\\u002fextra\\u003e\",\"legendgroup\":\"Autre\",\"line\":{\"color\":\"#636efa\",\"dash\":\"solid\"},\"marker\":{\"symbol\":\"circle\"},\"mode\":\"lines\",\"name\":\"Autre\",\"orientation\":\"v\",\"showlegend\":true,\"x\":[\"2024-01-31T00:00:00\",\"2024-02-29T00:00:00\",\"2024-03-31T00:00:00\",\"2024-04-30T00:00:00\",\"2024-05-31T00:00:00\",\"2024-06-30T00:00:00\",\"2024-07-31T00:00:00\",\"2024-08-31T00:00:00\",\"2024-09-30T00:00:00\",\"2024-10-31T00:00:00\",\"2024-11-30T00:00:00\",\"2024-12-31T00:00:00\"],\"xaxis\":\"x\",\"y\":[3949495.8333333335,4037716.348938661,4127907.4602103997,4220113.184656876,4314378.523012496,4410749.48120021,4509273.092784579,4609997.441926363,4712971.686849858,4818246.08383442,4925872.0117419,5035901.997091943],\"yaxis\":\"y\",\"type\":\"scatter\"},{\"hovertemplate\":\"Theme_Final=Info\\u003cbr\\u003eDate=%{x}\\u003cbr\\u003eVisitors=%{y}\\u003cextra\\u003e\\u003c\\u002fextra\\u003e\",\"legendgroup\":\"Info\",\"line\":{\"color\":\"#EF553B\",\"dash\":\"solid\"},\"marker\":{\"symbol\":\"circle\"},\"mode\":\"lines\",\"name\":\"Info\",\"orientation\":\"v\",\"showlegend\":true,\"x\":[\"2024-01-31T00:00:00\",\"2024-02-29T00:00:00\",\"2024-03-31T00:00:00\",\"2024-04-30T00:00:00\",\"2024-05-31T00:00:00\",\"2024-06-30T00:00:00\",\"2024-07-31T00:00:00\",\"2024-08-31T00:00:00\",\"2024-09-30T00:00:00\",\"2024-10-31T00:00:00\",\"2024-11-30T00:00:00\",\"2024-12-31T00:00:00\"],\"xaxis\":\"x\",\"y\":[522826.75,540260.6077022429,558275.8040494233,576891.724000732,596128.3989142294,616006.5281012623,636547.5010996219,657773.4206894079,679707.1266763656,702372.2204682884,725793.0904709279,749994.9383307425],\"yaxis\":\"y\",\"type\":\"scatter\"},{\"hovertemplate\":\"Theme_Final=Musique\\u003cbr\\u003eDate=%{x}\\u003cbr\\u003eVisitors=%{y}\\u003cextra\\u003e\\u003c\\u002fextra\\u003e\",\"legendgroup\":\"Musique\",\"line\":{\"color\":\"#00cc96\",\"dash\":\"solid\"},\"marker\":{\"symbol\":\"circle\"},\"mode\":\"lines\",\"name\":\"Musique\",\"orientation\":\"v\",\"showlegend\":true,\"x\":[\"2024-01-31T00:00:00\",\"2024-02-29T00:00:00\",\"2024-03-31T00:00:00\",\"2024-04-30T00:00:00\",\"2024-05-31T00:00:00\",\"2024-06-30T00:00:00\",\"2024-07-31T00:00:00\",\"2024-08-31T00:00:00\",\"2024-09-30T00:00:00\",\"2024-10-31T00:00:00\",\"2024-11-30T00:00:00\",\"2024-12-31T00:00:00\"],\"xaxis\":\"x\",\"y\":[162303.83333333334,168827.02928742117,175612.4007217889,182670.48479995935,190012.24218735952,197649.0740723966,205592.83987163278,213855.87564655332,222451.0132605274,231391.6003057121,240691.52083084328,250365.2169021027],\"yaxis\":\"y\",\"type\":\"scatter\"},{\"hovertemplate\":\"Theme_Final=Société\\u003cbr\\u003eDate=%{x}\\u003cbr\\u003eVisitors=%{y}\\u003cextra\\u003e\\u003c\\u002fextra\\u003e\",\"legendgroup\":\"Société\",\"line\":{\"color\":\"#ab63fa\",\"dash\":\"solid\"},\"marker\":{\"symbol\":\"circle\"},\"mode\":\"lines\",\"name\":\"Société\",\"orientation\":\"v\",\"showlegend\":true,\"x\":[\"2024-01-31T00:00:00\",\"2024-02-29T00:00:00\",\"2024-03-31T00:00:00\",\"2024-04-30T00:00:00\",\"2024-05-31T00:00:00\",\"2024-06-30T00:00:00\",\"2024-07-31T00:00:00\",\"2024-08-31T00:00:00\",\"2024-09-30T00:00:00\",\"2024-10-31T00:00:00\",\"2024-11-30T00:00:00\",\"2024-12-31T00:00:00\"],\"xaxis\":\"x\",\"y\":[98767.91666666667,103089.78141134128,107600.761361658,112309.13177913429,117223.53003235847,122352.9714419912,127706.86581910915,133295.03472722962,139127.72949968313,145215.65004538637,151569.96447751383,158202.32960107658],\"yaxis\":\"y\",\"type\":\"scatter\"},{\"hovertemplate\":\"Theme_Final=Humour\\u003cbr\\u003eDate=%{x}\\u003cbr\\u003eVisitors=%{y}\\u003cextra\\u003e\\u003c\\u002fextra\\u003e\",\"legendgroup\":\"Humour\",\"line\":{\"color\":\"#FFA15A\",\"dash\":\"solid\"},\"marker\":{\"symbol\":\"circle\"},\"mode\":\"lines\",\"name\":\"Humour\",\"orientation\":\"v\",\"showlegend\":true,\"x\":[\"2024-01-31T00:00:00\",\"2024-02-29T00:00:00\",\"2024-03-31T00:00:00\",\"2024-04-30T00:00:00\",\"2024-05-31T00:00:00\",\"2024-06-30T00:00:00\",\"2024-07-31T00:00:00\",\"2024-08-31T00:00:00\",\"2024-09-30T00:00:00\",\"2024-10-31T00:00:00\",\"2024-11-30T00:00:00\",\"2024-12-31T00:00:00\"],\"xaxis\":\"x\",\"y\":[56000.166666666664,57612.91573500482,59272.11037149472,60979.08816227625,62735.22521463896,64541.93726639286,66400.68082718787,68312.95435270238,70280.29945264697,72304.30213355774,74386.59407738056,76528.85395687753],\"yaxis\":\"y\",\"type\":\"scatter\"},{\"hovertemplate\":\"Theme_Final=Sport\\u003cbr\\u003eDate=%{x}\\u003cbr\\u003eVisitors=%{y}\\u003cextra\\u003e\\u003c\\u002fextra\\u003e\",\"legendgroup\":\"Sport\",\"line\":{\"color\":\"#19d3f3\",\"dash\":\"solid\"},\"marker\":{\"symbol\":\"circle\"},\"mode\":\"lines\",\"name\":\"Sport\",\"orientation\":\"v\",\"showlegend\":true,\"x\":[\"2024-01-31T00:00:00\",\"2024-02-29T00:00:00\",\"2024-03-31T00:00:00\",\"2024-04-30T00:00:00\",\"2024-05-31T00:00:00\",\"2024-06-30T00:00:00\",\"2024-07-31T00:00:00\",\"2024-08-31T00:00:00\",\"2024-09-30T00:00:00\",\"2024-10-31T00:00:00\",\"2024-11-30T00:00:00\",\"2024-12-31T00:00:00\"],\"xaxis\":\"x\",\"y\":[16084.5,16376.852309923857,16674.518423392605,16977.594924244153,17286.180151826873,17600.37423290782,17920.279114160887,18245.99859524548,18577.638362486454,18915.306023166177,19259.111140439898,19609.165268885787],\"yaxis\":\"y\",\"type\":\"scatter\"}],                        {\"template\":{\"data\":{\"histogram2dcontour\":[{\"type\":\"histogram2dcontour\",\"colorbar\":{\"outlinewidth\":0,\"ticks\":\"\"},\"colorscale\":[[0.0,\"#0d0887\"],[0.1111111111111111,\"#46039f\"],[0.2222222222222222,\"#7201a8\"],[0.3333333333333333,\"#9c179e\"],[0.4444444444444444,\"#bd3786\"],[0.5555555555555556,\"#d8576b\"],[0.6666666666666666,\"#ed7953\"],[0.7777777777777778,\"#fb9f3a\"],[0.8888888888888888,\"#fdca26\"],[1.0,\"#f0f921\"]]}],\"choropleth\":[{\"type\":\"choropleth\",\"colorbar\":{\"outlinewidth\":0,\"ticks\":\"\"}}],\"histogram2d\":[{\"type\":\"histogram2d\",\"colorbar\":{\"outlinewidth\":0,\"ticks\":\"\"},\"colorscale\":[[0.0,\"#0d0887\"],[0.1111111111111111,\"#46039f\"],[0.2222222222222222,\"#7201a8\"],[0.3333333333333333,\"#9c179e\"],[0.4444444444444444,\"#bd3786\"],[0.5555555555555556,\"#d8576b\"],[0.6666666666666666,\"#ed7953\"],[0.7777777777777778,\"#fb9f3a\"],[0.8888888888888888,\"#fdca26\"],[1.0,\"#f0f921\"]]}],\"heatmap\":[{\"type\":\"heatmap\",\"colorbar\":{\"outlinewidth\":0,\"ticks\":\"\"},\"colorscale\":[[0.0,\"#0d0887\"],[0.1111111111111111,\"#46039f\"],[0.2222222222222222,\"#7201a8\"],[0.3333333333333333,\"#9c179e\"],[0.4444444444444444,\"#bd3786\"],[0.5555555555555556,\"#d8576b\"],[0.6666666666666666,\"#ed7953\"],[0.7777777777777778,\"#fb9f3a\"],[0.8888888888888888,\"#fdca26\"],[1.0,\"#f0f921\"]]}],\"heatmapgl\":[{\"type\":\"heatmapgl\",\"colorbar\":{\"outlinewidth\":0,\"ticks\":\"\"},\"colorscale\":[[0.0,\"#0d0887\"],[0.1111111111111111,\"#46039f\"],[0.2222222222222222,\"#7201a8\"],[0.3333333333333333,\"#9c179e\"],[0.4444444444444444,\"#bd3786\"],[0.5555555555555556,\"#d8576b\"],[0.6666666666666666,\"#ed7953\"],[0.7777777777777778,\"#fb9f3a\"],[0.8888888888888888,\"#fdca26\"],[1.0,\"#f0f921\"]]}],\"contourcarpet\":[{\"type\":\"contourcarpet\",\"colorbar\":{\"outlinewidth\":0,\"ticks\":\"\"}}],\"contour\":[{\"type\":\"contour\",\"colorbar\":{\"outlinewidth\":0,\"ticks\":\"\"},\"colorscale\":[[0.0,\"#0d0887\"],[0.1111111111111111,\"#46039f\"],[0.2222222222222222,\"#7201a8\"],[0.3333333333333333,\"#9c179e\"],[0.4444444444444444,\"#bd3786\"],[0.5555555555555556,\"#d8576b\"],[0.6666666666666666,\"#ed7953\"],[0.7777777777777778,\"#fb9f3a\"],[0.8888888888888888,\"#fdca26\"],[1.0,\"#f0f921\"]]}],\"surface\":[{\"type\":\"surface\",\"colorbar\":{\"outlinewidth\":0,\"ticks\":\"\"},\"colorscale\":[[0.0,\"#0d0887\"],[0.1111111111111111,\"#46039f\"],[0.2222222222222222,\"#7201a8\"],[0.3333333333333333,\"#9c179e\"],[0.4444444444444444,\"#bd3786\"],[0.5555555555555556,\"#d8576b\"],[0.6666666666666666,\"#ed7953\"],[0.7777777777777778,\"#fb9f3a\"],[0.8888888888888888,\"#fdca26\"],[1.0,\"#f0f921\"]]}],\"mesh3d\":[{\"type\":\"mesh3d\",\"colorbar\":{\"outlinewidth\":0,\"ticks\":\"\"}}],\"scatter\":[{\"fillpattern\":{\"fillmode\":\"overlay\",\"size\":10,\"solidity\":0.2},\"type\":\"scatter\"}],\"parcoords\":[{\"type\":\"parcoords\",\"line\":{\"colorbar\":{\"outlinewidth\":0,\"ticks\":\"\"}}}],\"scatterpolargl\":[{\"type\":\"scatterpolargl\",\"marker\":{\"colorbar\":{\"outlinewidth\":0,\"ticks\":\"\"}}}],\"bar\":[{\"error_x\":{\"color\":\"#2a3f5f\"},\"error_y\":{\"color\":\"#2a3f5f\"},\"marker\":{\"line\":{\"color\":\"#E5ECF6\",\"width\":0.5},\"pattern\":{\"fillmode\":\"overlay\",\"size\":10,\"solidity\":0.2}},\"type\":\"bar\"}],\"scattergeo\":[{\"type\":\"scattergeo\",\"marker\":{\"colorbar\":{\"outlinewidth\":0,\"ticks\":\"\"}}}],\"scatterpolar\":[{\"type\":\"scatterpolar\",\"marker\":{\"colorbar\":{\"outlinewidth\":0,\"ticks\":\"\"}}}],\"histogram\":[{\"marker\":{\"pattern\":{\"fillmode\":\"overlay\",\"size\":10,\"solidity\":0.2}},\"type\":\"histogram\"}],\"scattergl\":[{\"type\":\"scattergl\",\"marker\":{\"colorbar\":{\"outlinewidth\":0,\"ticks\":\"\"}}}],\"scatter3d\":[{\"type\":\"scatter3d\",\"line\":{\"colorbar\":{\"outlinewidth\":0,\"ticks\":\"\"}},\"marker\":{\"colorbar\":{\"outlinewidth\":0,\"ticks\":\"\"}}}],\"scattermapbox\":[{\"type\":\"scattermapbox\",\"marker\":{\"colorbar\":{\"outlinewidth\":0,\"ticks\":\"\"}}}],\"scatterternary\":[{\"type\":\"scatterternary\",\"marker\":{\"colorbar\":{\"outlinewidth\":0,\"ticks\":\"\"}}}],\"scattercarpet\":[{\"type\":\"scattercarpet\",\"marker\":{\"colorbar\":{\"outlinewidth\":0,\"ticks\":\"\"}}}],\"carpet\":[{\"aaxis\":{\"endlinecolor\":\"#2a3f5f\",\"gridcolor\":\"white\",\"linecolor\":\"white\",\"minorgridcolor\":\"white\",\"startlinecolor\":\"#2a3f5f\"},\"baxis\":{\"endlinecolor\":\"#2a3f5f\",\"gridcolor\":\"white\",\"linecolor\":\"white\",\"minorgridcolor\":\"white\",\"startlinecolor\":\"#2a3f5f\"},\"type\":\"carpet\"}],\"table\":[{\"cells\":{\"fill\":{\"color\":\"#EBF0F8\"},\"line\":{\"color\":\"white\"}},\"header\":{\"fill\":{\"color\":\"#C8D4E3\"},\"line\":{\"color\":\"white\"}},\"type\":\"table\"}],\"barpolar\":[{\"marker\":{\"line\":{\"color\":\"#E5ECF6\",\"width\":0.5},\"pattern\":{\"fillmode\":\"overlay\",\"size\":10,\"solidity\":0.2}},\"type\":\"barpolar\"}],\"pie\":[{\"automargin\":true,\"type\":\"pie\"}]},\"layout\":{\"autotypenumbers\":\"strict\",\"colorway\":[\"#636efa\",\"#EF553B\",\"#00cc96\",\"#ab63fa\",\"#FFA15A\",\"#19d3f3\",\"#FF6692\",\"#B6E880\",\"#FF97FF\",\"#FECB52\"],\"font\":{\"color\":\"#2a3f5f\"},\"hovermode\":\"closest\",\"hoverlabel\":{\"align\":\"left\"},\"paper_bgcolor\":\"white\",\"plot_bgcolor\":\"#E5ECF6\",\"polar\":{\"bgcolor\":\"#E5ECF6\",\"angularaxis\":{\"gridcolor\":\"white\",\"linecolor\":\"white\",\"ticks\":\"\"},\"radialaxis\":{\"gridcolor\":\"white\",\"linecolor\":\"white\",\"ticks\":\"\"}},\"ternary\":{\"bgcolor\":\"#E5ECF6\",\"aaxis\":{\"gridcolor\":\"white\",\"linecolor\":\"white\",\"ticks\":\"\"},\"baxis\":{\"gridcolor\":\"white\",\"linecolor\":\"white\",\"ticks\":\"\"},\"caxis\":{\"gridcolor\":\"white\",\"linecolor\":\"white\",\"ticks\":\"\"}},\"coloraxis\":{\"colorbar\":{\"outlinewidth\":0,\"ticks\":\"\"}},\"colorscale\":{\"sequential\":[[0.0,\"#0d0887\"],[0.1111111111111111,\"#46039f\"],[0.2222222222222222,\"#7201a8\"],[0.3333333333333333,\"#9c179e\"],[0.4444444444444444,\"#bd3786\"],[0.5555555555555556,\"#d8576b\"],[0.6666666666666666,\"#ed7953\"],[0.7777777777777778,\"#fb9f3a\"],[0.8888888888888888,\"#fdca26\"],[1.0,\"#f0f921\"]],\"sequentialminus\":[[0.0,\"#0d0887\"],[0.1111111111111111,\"#46039f\"],[0.2222222222222222,\"#7201a8\"],[0.3333333333333333,\"#9c179e\"],[0.4444444444444444,\"#bd3786\"],[0.5555555555555556,\"#d8576b\"],[0.6666666666666666,\"#ed7953\"],[0.7777777777777778,\"#fb9f3a\"],[0.8888888888888888,\"#fdca26\"],[1.0,\"#f0f921\"]],\"diverging\":[[0,\"#8e0152\"],[0.1,\"#c51b7d\"],[0.2,\"#de77ae\"],[0.3,\"#f1b6da\"],[0.4,\"#fde0ef\"],[0.5,\"#f7f7f7\"],[0.6,\"#e6f5d0\"],[0.7,\"#b8e186\"],[0.8,\"#7fbc41\"],[0.9,\"#4d9221\"],[1,\"#276419\"]]},\"xaxis\":{\"gridcolor\":\"white\",\"linecolor\":\"white\",\"ticks\":\"\",\"title\":{\"standoff\":15},\"zerolinecolor\":\"white\",\"automargin\":true,\"zerolinewidth\":2},\"yaxis\":{\"gridcolor\":\"white\",\"linecolor\":\"white\",\"ticks\":\"\",\"title\":{\"standoff\":15},\"zerolinecolor\":\"white\",\"automargin\":true,\"zerolinewidth\":2},\"scene\":{\"xaxis\":{\"backgroundcolor\":\"#E5ECF6\",\"gridcolor\":\"white\",\"linecolor\":\"white\",\"showbackground\":true,\"ticks\":\"\",\"zerolinecolor\":\"white\",\"gridwidth\":2},\"yaxis\":{\"backgroundcolor\":\"#E5ECF6\",\"gridcolor\":\"white\",\"linecolor\":\"white\",\"showbackground\":true,\"ticks\":\"\",\"zerolinecolor\":\"white\",\"gridwidth\":2},\"zaxis\":{\"backgroundcolor\":\"#E5ECF6\",\"gridcolor\":\"white\",\"linecolor\":\"white\",\"showbackground\":true,\"ticks\":\"\",\"zerolinecolor\":\"white\",\"gridwidth\":2}},\"shapedefaults\":{\"line\":{\"color\":\"#2a3f5f\"}},\"annotationdefaults\":{\"arrowcolor\":\"#2a3f5f\",\"arrowhead\":0,\"arrowwidth\":1},\"geo\":{\"bgcolor\":\"white\",\"landcolor\":\"#E5ECF6\",\"subunitcolor\":\"white\",\"showland\":true,\"showlakes\":true,\"lakecolor\":\"white\"},\"title\":{\"x\":0.05},\"mapbox\":{\"style\":\"light\"}}},\"xaxis\":{\"anchor\":\"y\",\"domain\":[0.0,1.0],\"title\":{\"text\":\"Date\"}},\"yaxis\":{\"anchor\":\"x\",\"domain\":[0.0,1.0],\"title\":{\"text\":\"Visitors\"}},\"legend\":{\"title\":{\"text\":\"Theme_Final\"},\"tracegroupgap\":0},\"title\":{\"text\":\"Évolution temporelle interactive des visiteurs par thème\"}},                        {\"responsive\": true}                    ).then(function(){\n",
              "                            \n",
              "var gd = document.getElementById('05371779-a614-408e-a072-f280efa2ab73');\n",
              "var x = new MutationObserver(function (mutations, observer) {{\n",
              "        var display = window.getComputedStyle(gd).display;\n",
              "        if (!display || display === 'none') {{\n",
              "            console.log([gd, 'removed!']);\n",
              "            Plotly.purge(gd);\n",
              "            observer.disconnect();\n",
              "        }}\n",
              "}});\n",
              "\n",
              "// Listen for the removal of the full notebook cells\n",
              "var notebookContainer = gd.closest('#notebook-container');\n",
              "if (notebookContainer) {{\n",
              "    x.observe(notebookContainer, {childList: true});\n",
              "}}\n",
              "\n",
              "// Listen for the clearing of the current output cell\n",
              "var outputEl = gd.closest('.output');\n",
              "if (outputEl) {{\n",
              "    x.observe(outputEl, {childList: true});\n",
              "}}\n",
              "\n",
              "                        })                };                            </script>        </div>\n",
              "</body>\n",
              "</html>"
            ]
          },
          "metadata": {}
        }
      ]
    }
  ]
}